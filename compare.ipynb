{
 "cells": [
  {
   "cell_type": "code",
   "execution_count": 1,
   "metadata": {},
   "outputs": [],
   "source": [
    "from PIL.ImageOps import grayscale as GS\n",
    "import matplotlib.pyplot as plt\n",
    "from PIL import Image\n",
    "import pandas as pd\n",
    "\n",
    "import numpy as np"
   ]
  },
  {
   "cell_type": "code",
   "execution_count": 2,
   "metadata": {},
   "outputs": [
    {
     "data": {
      "text/html": [
       "<div>\n",
       "<style scoped>\n",
       "    .dataframe tbody tr th:only-of-type {\n",
       "        vertical-align: middle;\n",
       "    }\n",
       "\n",
       "    .dataframe tbody tr th {\n",
       "        vertical-align: top;\n",
       "    }\n",
       "\n",
       "    .dataframe thead th {\n",
       "        text-align: right;\n",
       "    }\n",
       "</style>\n",
       "<table border=\"1\" class=\"dataframe\">\n",
       "  <thead>\n",
       "    <tr style=\"text-align: right;\">\n",
       "      <th></th>\n",
       "      <th>Date</th>\n",
       "      <th>FRR</th>\n",
       "      <th>Filename_x</th>\n",
       "      <th>Chunk Number</th>\n",
       "      <th>Peak Height</th>\n",
       "      <th>Bead_number</th>\n",
       "      <th>Droplet_r</th>\n",
       "      <th>bead_d</th>\n",
       "      <th>adjusted_drop_r</th>\n",
       "      <th>Radius</th>\n",
       "      <th>Theta</th>\n",
       "      <th>Bead Section</th>\n",
       "      <th>Filename_y</th>\n",
       "      <th>IDD</th>\n",
       "      <th>dropR</th>\n",
       "      <th>beadR</th>\n",
       "      <th>beadTheta</th>\n",
       "    </tr>\n",
       "  </thead>\n",
       "  <tbody>\n",
       "    <tr>\n",
       "      <th>0</th>\n",
       "      <td>915</td>\n",
       "      <td>6.67</td>\n",
       "      <td>6.67_0915_poutput_data4.csv</td>\n",
       "      <td>45</td>\n",
       "      <td>20.297</td>\n",
       "      <td>78</td>\n",
       "      <td>25.561039</td>\n",
       "      <td>14.66</td>\n",
       "      <td>51.47</td>\n",
       "      <td>7.729610</td>\n",
       "      <td>75.969150</td>\n",
       "      <td>TC</td>\n",
       "      <td>6.67_0915_o4_b78.mp4</td>\n",
       "      <td>5.1</td>\n",
       "      <td>6.0</td>\n",
       "      <td>6</td>\n",
       "      <td>31.0</td>\n",
       "    </tr>\n",
       "    <tr>\n",
       "      <th>1</th>\n",
       "      <td>913</td>\n",
       "      <td>5.33</td>\n",
       "      <td>5.33_0913_poutput_data8.csv</td>\n",
       "      <td>11</td>\n",
       "      <td>20.311</td>\n",
       "      <td>65</td>\n",
       "      <td>32.635517</td>\n",
       "      <td>14.66</td>\n",
       "      <td>65.61</td>\n",
       "      <td>4.191733</td>\n",
       "      <td>63.428836</td>\n",
       "      <td>TL</td>\n",
       "      <td>5.33_0913_o8_b65.mp4</td>\n",
       "      <td>4.0</td>\n",
       "      <td>11.0</td>\n",
       "      <td>3</td>\n",
       "      <td>18.4</td>\n",
       "    </tr>\n",
       "    <tr>\n",
       "      <th>2</th>\n",
       "      <td>913</td>\n",
       "      <td>5.33</td>\n",
       "      <td>5.33_0913_poutput_data6.csv</td>\n",
       "      <td>10</td>\n",
       "      <td>14.031</td>\n",
       "      <td>70</td>\n",
       "      <td>35.900319</td>\n",
       "      <td>14.66</td>\n",
       "      <td>72.14</td>\n",
       "      <td>29.997000</td>\n",
       "      <td>0.000000</td>\n",
       "      <td>CL</td>\n",
       "      <td>5.33_0913_o6_b70.mp4</td>\n",
       "      <td>4.3</td>\n",
       "      <td>9.0</td>\n",
       "      <td>9</td>\n",
       "      <td>353.7</td>\n",
       "    </tr>\n",
       "    <tr>\n",
       "      <th>3</th>\n",
       "      <td>913</td>\n",
       "      <td>5.33</td>\n",
       "      <td>5.33_0913_poutput_data5.csv</td>\n",
       "      <td>21</td>\n",
       "      <td>20.309</td>\n",
       "      <td>64</td>\n",
       "      <td>37.545450</td>\n",
       "      <td>14.66</td>\n",
       "      <td>75.43</td>\n",
       "      <td>13.256838</td>\n",
       "      <td>315.000000</td>\n",
       "      <td>BL</td>\n",
       "      <td>5.33_0913_o5_b64.mp4</td>\n",
       "      <td>3.8</td>\n",
       "      <td>8.0</td>\n",
       "      <td>4</td>\n",
       "      <td>326.3</td>\n",
       "    </tr>\n",
       "    <tr>\n",
       "      <th>4</th>\n",
       "      <td>913</td>\n",
       "      <td>5.33</td>\n",
       "      <td>5.33_0913_poutput_data4.csv</td>\n",
       "      <td>12</td>\n",
       "      <td>11.140</td>\n",
       "      <td>73</td>\n",
       "      <td>37.604999</td>\n",
       "      <td>14.66</td>\n",
       "      <td>75.55</td>\n",
       "      <td>27.297253</td>\n",
       "      <td>195.945108</td>\n",
       "      <td>CR</td>\n",
       "      <td>5.33_0913_o4_b73.mp4</td>\n",
       "      <td>4.1</td>\n",
       "      <td>9.0</td>\n",
       "      <td>4</td>\n",
       "      <td>180.0</td>\n",
       "    </tr>\n",
       "  </tbody>\n",
       "</table>\n",
       "</div>"
      ],
      "text/plain": [
       "   Date   FRR                   Filename_x  Chunk Number  Peak Height  \\\n",
       "0   915  6.67  6.67_0915_poutput_data4.csv            45       20.297   \n",
       "1   913  5.33  5.33_0913_poutput_data8.csv            11       20.311   \n",
       "2   913  5.33  5.33_0913_poutput_data6.csv            10       14.031   \n",
       "3   913  5.33  5.33_0913_poutput_data5.csv            21       20.309   \n",
       "4   913  5.33  5.33_0913_poutput_data4.csv            12       11.140   \n",
       "\n",
       "   Bead_number  Droplet_r  bead_d  adjusted_drop_r     Radius       Theta  \\\n",
       "0           78  25.561039   14.66            51.47   7.729610   75.969150   \n",
       "1           65  32.635517   14.66            65.61   4.191733   63.428836   \n",
       "2           70  35.900319   14.66            72.14  29.997000    0.000000   \n",
       "3           64  37.545450   14.66            75.43  13.256838  315.000000   \n",
       "4           73  37.604999   14.66            75.55  27.297253  195.945108   \n",
       "\n",
       "  Bead Section            Filename_y  IDD  dropR  beadR  beadTheta  \n",
       "0           TC  6.67_0915_o4_b78.mp4  5.1    6.0      6       31.0  \n",
       "1           TL  5.33_0913_o8_b65.mp4  4.0   11.0      3       18.4  \n",
       "2           CL  5.33_0913_o6_b70.mp4  4.3    9.0      9      353.7  \n",
       "3           BL  5.33_0913_o5_b64.mp4  3.8    8.0      4      326.3  \n",
       "4           CR  5.33_0913_o4_b73.mp4  4.1    9.0      4      180.0  "
      ]
     },
     "execution_count": 2,
     "metadata": {},
     "output_type": "execute_result"
    }
   ],
   "source": [
    "FILE = \"merged2.csv\"\n",
    "df = pd.read_csv(FILE)\n",
    "df.head()"
   ]
  },
  {
   "cell_type": "code",
   "execution_count": 3,
   "metadata": {},
   "outputs": [],
   "source": [
    "def getData(row):\n",
    "  manual = {\n",
    "    'dropR': round(row['Droplet_r']),\n",
    "    'beadR': round(row['Radius']),\n",
    "    'beadTheta': round(row['Theta']),\n",
    "  }\n",
    "\n",
    "  # plot on a black square at beadR, beadTheta in blue\n",
    "  machine = {\n",
    "    'dropR': round(row['dropR']),\n",
    "    'beadR': round(row['beadR']),\n",
    "    'beadTheta': round(row['beadTheta']),\n",
    "  }\n",
    "\n",
    "  # now do beadr/dropr to get in [0,1]\n",
    "  manual['ratio'] = manual['beadR'] / manual['dropR']\n",
    "  machine['ratio'] = machine['beadR'] / machine['dropR']\n",
    "\n",
    "  return manual, machine"
   ]
  },
  {
   "cell_type": "code",
   "execution_count": 4,
   "metadata": {},
   "outputs": [],
   "source": [
    "def extend(file):\n",
    "  img = np.array(GS(Image.open(file)))\n",
    "  w, h = img.shape\n",
    "\n",
    "  new_img = np.zeros((w, h * 3 // 2), dtype=np.uint8)\n",
    "  new_img[:, :h] = img\n",
    "\n",
    "  return new_img"
   ]
  },
  {
   "cell_type": "code",
   "execution_count": 5,
   "metadata": {},
   "outputs": [
    {
     "name": "stdout",
     "output_type": "stream",
     "text": [
      "Processing 21/48\r"
     ]
    },
    {
     "name": "stderr",
     "output_type": "stream",
     "text": [
      "/var/folders/mt/y75db3512zv_8r60rn4pb82h0000gn/T/ipykernel_11995/640481569.py:8: RuntimeWarning: More than 20 figures have been opened. Figures created through the pyplot interface (`matplotlib.pyplot.figure`) are retained until explicitly closed and may consume too much memory. (To control this warning, see the rcParam `figure.max_open_warning`). Consider using `matplotlib.pyplot.close()`.\n",
      "  fig, ax = plt.subplots(subplot_kw={'projection': 'polar'}, figsize=(4, 4))\n"
     ]
    },
    {
     "name": "stdout",
     "output_type": "stream",
     "text": [
      "doneessing 48/48\n"
     ]
    },
    {
     "data": {
      "text/plain": [
       "<Figure size 400x400 with 0 Axes>"
      ]
     },
     "metadata": {},
     "output_type": "display_data"
    },
    {
     "data": {
      "text/plain": [
       "<Figure size 400x400 with 0 Axes>"
      ]
     },
     "metadata": {},
     "output_type": "display_data"
    },
    {
     "data": {
      "text/plain": [
       "<Figure size 400x400 with 0 Axes>"
      ]
     },
     "metadata": {},
     "output_type": "display_data"
    },
    {
     "data": {
      "text/plain": [
       "<Figure size 400x400 with 0 Axes>"
      ]
     },
     "metadata": {},
     "output_type": "display_data"
    },
    {
     "data": {
      "text/plain": [
       "<Figure size 400x400 with 0 Axes>"
      ]
     },
     "metadata": {},
     "output_type": "display_data"
    },
    {
     "data": {
      "text/plain": [
       "<Figure size 400x400 with 0 Axes>"
      ]
     },
     "metadata": {},
     "output_type": "display_data"
    },
    {
     "data": {
      "text/plain": [
       "<Figure size 400x400 with 0 Axes>"
      ]
     },
     "metadata": {},
     "output_type": "display_data"
    },
    {
     "data": {
      "text/plain": [
       "<Figure size 400x400 with 0 Axes>"
      ]
     },
     "metadata": {},
     "output_type": "display_data"
    },
    {
     "data": {
      "text/plain": [
       "<Figure size 400x400 with 0 Axes>"
      ]
     },
     "metadata": {},
     "output_type": "display_data"
    },
    {
     "data": {
      "text/plain": [
       "<Figure size 400x400 with 0 Axes>"
      ]
     },
     "metadata": {},
     "output_type": "display_data"
    },
    {
     "data": {
      "text/plain": [
       "<Figure size 400x400 with 0 Axes>"
      ]
     },
     "metadata": {},
     "output_type": "display_data"
    },
    {
     "data": {
      "text/plain": [
       "<Figure size 400x400 with 0 Axes>"
      ]
     },
     "metadata": {},
     "output_type": "display_data"
    },
    {
     "data": {
      "text/plain": [
       "<Figure size 400x400 with 0 Axes>"
      ]
     },
     "metadata": {},
     "output_type": "display_data"
    },
    {
     "data": {
      "text/plain": [
       "<Figure size 400x400 with 0 Axes>"
      ]
     },
     "metadata": {},
     "output_type": "display_data"
    },
    {
     "data": {
      "text/plain": [
       "<Figure size 400x400 with 0 Axes>"
      ]
     },
     "metadata": {},
     "output_type": "display_data"
    },
    {
     "data": {
      "text/plain": [
       "<Figure size 400x400 with 0 Axes>"
      ]
     },
     "metadata": {},
     "output_type": "display_data"
    },
    {
     "data": {
      "text/plain": [
       "<Figure size 400x400 with 0 Axes>"
      ]
     },
     "metadata": {},
     "output_type": "display_data"
    },
    {
     "data": {
      "text/plain": [
       "<Figure size 400x400 with 0 Axes>"
      ]
     },
     "metadata": {},
     "output_type": "display_data"
    },
    {
     "data": {
      "text/plain": [
       "<Figure size 400x400 with 0 Axes>"
      ]
     },
     "metadata": {},
     "output_type": "display_data"
    },
    {
     "data": {
      "text/plain": [
       "<Figure size 400x400 with 0 Axes>"
      ]
     },
     "metadata": {},
     "output_type": "display_data"
    },
    {
     "data": {
      "text/plain": [
       "<Figure size 400x400 with 0 Axes>"
      ]
     },
     "metadata": {},
     "output_type": "display_data"
    },
    {
     "data": {
      "text/plain": [
       "<Figure size 400x400 with 0 Axes>"
      ]
     },
     "metadata": {},
     "output_type": "display_data"
    },
    {
     "data": {
      "text/plain": [
       "<Figure size 400x400 with 0 Axes>"
      ]
     },
     "metadata": {},
     "output_type": "display_data"
    },
    {
     "data": {
      "text/plain": [
       "<Figure size 400x400 with 0 Axes>"
      ]
     },
     "metadata": {},
     "output_type": "display_data"
    },
    {
     "data": {
      "text/plain": [
       "<Figure size 400x400 with 0 Axes>"
      ]
     },
     "metadata": {},
     "output_type": "display_data"
    },
    {
     "data": {
      "text/plain": [
       "<Figure size 400x400 with 0 Axes>"
      ]
     },
     "metadata": {},
     "output_type": "display_data"
    },
    {
     "data": {
      "text/plain": [
       "<Figure size 400x400 with 0 Axes>"
      ]
     },
     "metadata": {},
     "output_type": "display_data"
    },
    {
     "data": {
      "text/plain": [
       "<Figure size 400x400 with 0 Axes>"
      ]
     },
     "metadata": {},
     "output_type": "display_data"
    },
    {
     "data": {
      "text/plain": [
       "<Figure size 400x400 with 0 Axes>"
      ]
     },
     "metadata": {},
     "output_type": "display_data"
    },
    {
     "data": {
      "text/plain": [
       "<Figure size 400x400 with 0 Axes>"
      ]
     },
     "metadata": {},
     "output_type": "display_data"
    },
    {
     "data": {
      "text/plain": [
       "<Figure size 400x400 with 0 Axes>"
      ]
     },
     "metadata": {},
     "output_type": "display_data"
    },
    {
     "data": {
      "text/plain": [
       "<Figure size 400x400 with 0 Axes>"
      ]
     },
     "metadata": {},
     "output_type": "display_data"
    },
    {
     "data": {
      "text/plain": [
       "<Figure size 400x400 with 0 Axes>"
      ]
     },
     "metadata": {},
     "output_type": "display_data"
    },
    {
     "data": {
      "text/plain": [
       "<Figure size 400x400 with 0 Axes>"
      ]
     },
     "metadata": {},
     "output_type": "display_data"
    },
    {
     "data": {
      "text/plain": [
       "<Figure size 400x400 with 0 Axes>"
      ]
     },
     "metadata": {},
     "output_type": "display_data"
    },
    {
     "data": {
      "text/plain": [
       "<Figure size 400x400 with 0 Axes>"
      ]
     },
     "metadata": {},
     "output_type": "display_data"
    },
    {
     "data": {
      "text/plain": [
       "<Figure size 400x400 with 0 Axes>"
      ]
     },
     "metadata": {},
     "output_type": "display_data"
    },
    {
     "data": {
      "text/plain": [
       "<Figure size 400x400 with 0 Axes>"
      ]
     },
     "metadata": {},
     "output_type": "display_data"
    },
    {
     "data": {
      "text/plain": [
       "<Figure size 400x400 with 0 Axes>"
      ]
     },
     "metadata": {},
     "output_type": "display_data"
    },
    {
     "data": {
      "text/plain": [
       "<Figure size 400x400 with 0 Axes>"
      ]
     },
     "metadata": {},
     "output_type": "display_data"
    },
    {
     "data": {
      "text/plain": [
       "<Figure size 400x400 with 0 Axes>"
      ]
     },
     "metadata": {},
     "output_type": "display_data"
    },
    {
     "data": {
      "text/plain": [
       "<Figure size 400x400 with 0 Axes>"
      ]
     },
     "metadata": {},
     "output_type": "display_data"
    },
    {
     "data": {
      "text/plain": [
       "<Figure size 400x400 with 0 Axes>"
      ]
     },
     "metadata": {},
     "output_type": "display_data"
    },
    {
     "data": {
      "text/plain": [
       "<Figure size 400x400 with 0 Axes>"
      ]
     },
     "metadata": {},
     "output_type": "display_data"
    },
    {
     "data": {
      "text/plain": [
       "<Figure size 400x400 with 0 Axes>"
      ]
     },
     "metadata": {},
     "output_type": "display_data"
    },
    {
     "data": {
      "text/plain": [
       "<Figure size 400x400 with 0 Axes>"
      ]
     },
     "metadata": {},
     "output_type": "display_data"
    },
    {
     "data": {
      "text/plain": [
       "<Figure size 400x400 with 0 Axes>"
      ]
     },
     "metadata": {},
     "output_type": "display_data"
    },
    {
     "data": {
      "text/plain": [
       "<Figure size 400x400 with 0 Axes>"
      ]
     },
     "metadata": {},
     "output_type": "display_data"
    }
   ],
   "source": [
    "Len = len(df)\n",
    "\n",
    "for i in range(Len):\n",
    "  print(f\"Processing {i+1}/{Len}\", end='\\r')\n",
    "  row = df.iloc[i]\n",
    "  manual, machine = getData(row)\n",
    "\n",
    "  fig, ax = plt.subplots(subplot_kw={'projection': 'polar'}, figsize=(4, 4))\n",
    "  ax.set_theta_zero_location('W')\n",
    "  ax.set_theta_direction(-1)\n",
    "  ax.set_ylim([0, 1])\n",
    "\n",
    "  ax.plot(np.deg2rad(manual['beadTheta']), manual['ratio'], marker='o', markersize=10)\n",
    "  ax.plot(np.deg2rad(machine['beadTheta']), machine['ratio'], marker='s', markersize=10)\n",
    "\n",
    "  ax.legend(['Manual', 'Machine'], loc=\"lower left\")\n",
    "  plt.tight_layout()\n",
    "  plt.savefig('test.png', dpi=300)\n",
    "  plt.clf()\n",
    "\n",
    "  # NEW IMAGE\n",
    "  fname = row['Filename_y'].strip()\n",
    "  new_img = extend(f\"frames/{fname}.png\")\n",
    "\n",
    "  read_img = GS(Image.open('test.png'))\n",
    "  sz = min(*new_img.shape)\n",
    "  read_img = read_img.resize((sz, sz))\n",
    "  new_img[:, -sz:] = np.array(read_img)\n",
    "\n",
    "  # save image with Image\n",
    "  Image.fromarray(new_img).save(f'images/{fname}.png')\n",
    "\n",
    "print(\"done\")"
   ]
  }
 ],
 "metadata": {
  "kernelspec": {
   "display_name": "shotty",
   "language": "python",
   "name": "python3"
  },
  "language_info": {
   "codemirror_mode": {
    "name": "ipython",
    "version": 3
   },
   "file_extension": ".py",
   "mimetype": "text/x-python",
   "name": "python",
   "nbconvert_exporter": "python",
   "pygments_lexer": "ipython3",
   "version": "3.12.8"
  }
 },
 "nbformat": 4,
 "nbformat_minor": 2
}
