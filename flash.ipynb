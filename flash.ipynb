{
 "cells": [
  {
   "cell_type": "code",
   "execution_count": 1,
   "metadata": {},
   "outputs": [],
   "source": [
    "from src.tools import to_ranges, count_im, xy\n",
    "from matplotlib import pyplot as plt\n",
    "import numpy as np\n",
    "import cv2 as C\n",
    "\n",
    "BEAD_FREQ = 54\n",
    "B_POS = (148, 710)\n",
    "B_SIZ = 25\n",
    "\n",
    "BEAD_SIZE = 7 #px\n",
    "INTRA_BEAD_DIST = 3 #in terms of R\n",
    "\n",
    "hough = lambda img, **kwargs: np.uint16(np.around(C.HoughCircles(img, **kwargs)))"
   ]
  },
  {
   "cell_type": "code",
   "execution_count": 2,
   "metadata": {},
   "outputs": [
    {
     "name": "stdout",
     "output_type": "stream",
     "text": [
      "Found 98 images\n"
     ]
    }
   ],
   "source": [
    "INTRA_BEAD_DIST = (INTRA_BEAD_DIST + 2)*BEAD_SIZE\n",
    "\n",
    "B_POS = (B_POS[0], B_POS[1] - INTRA_BEAD_DIST)\n",
    "x0, y0, x1, y1 = xy(B_POS, B_SIZ)\n",
    "\n",
    "flen = count_im('out_dir')\n",
    "print(f\"Found {flen} images\")"
   ]
  },
  {
   "cell_type": "code",
   "execution_count": 3,
   "metadata": {},
   "outputs": [
    {
     "name": "stdout",
     "output_type": "stream",
     "text": [
      "[range(23, 27), range(74, 81)]\n"
     ]
    }
   ],
   "source": [
    "lums = []\n",
    "cache = {}\n",
    "\n",
    "for i in range(1, flen + 1):\n",
    "  name = f'{i:03d}'\n",
    "  img = C.imread(f'./out_dir/{name}.png', C.IMREAD_GRAYSCALE)\n",
    "\n",
    "  # mean lum s.t. lum = sum_white (>200)\n",
    "  lum = np.sum(img > 200)\n",
    "  lums.append(lum)\n",
    "  cache[name] = lum\n",
    "mean, std = np.mean(lums), np.std(lums)\n",
    "\n",
    "# delete items in cache that are not in lums\n",
    "for k in list(cache.keys()):\n",
    "  if cache[k] < mean + std:\n",
    "    del cache[k]\n",
    "\n",
    "ranges = to_ranges(list(map(int, cache.keys())))\n",
    "print(ranges)"
   ]
  },
  {
   "cell_type": "code",
   "execution_count": 4,
   "metadata": {},
   "outputs": [],
   "source": [
    "# for each range, find the argmax\n",
    "maxes = {}\n",
    "for r in ranges:\n",
    "  argmax = max(r, key=lambda k: cache[f\"{k:03d}\"])\n",
    "  maxes[argmax] = cache[f\"{argmax:03d}\"]\n",
    "\n",
    "# max in maxes contains the bead\n",
    "bead = max(maxes, key=lambda k: maxes[k])\n",
    "img_base = C.imread(f'./in_dir/{bead:03d}.png', C.IMREAD_GRAYSCALE)\n",
    "img_bead = C.imread(f'./in_dir/{bead - BEAD_FREQ:03d}.png', C.IMREAD_GRAYSCALE)\n",
    "\n",
    "img_base = img_base[x0:x1, y0:y1]\n",
    "img_bead = img_bead[x0:x1, y0:y1]"
   ]
  },
  {
   "cell_type": "code",
   "execution_count": 5,
   "metadata": {},
   "outputs": [
    {
     "ename": "NameError",
     "evalue": "name 'edges' is not defined",
     "output_type": "error",
     "traceback": [
      "\u001b[0;31m---------------------------------------------------------------------------\u001b[0m",
      "\u001b[0;31mNameError\u001b[0m                                 Traceback (most recent call last)",
      "Cell \u001b[0;32mIn[5], line 2\u001b[0m\n\u001b[1;32m      1\u001b[0m detected \u001b[38;5;241m=\u001b[39m hough(\n\u001b[0;32m----> 2\u001b[0m   \u001b[43medges\u001b[49m, method\u001b[38;5;241m=\u001b[39mC\u001b[38;5;241m.\u001b[39mHOUGH_GRADIENT, dp\u001b[38;5;241m=\u001b[39m\u001b[38;5;241m1\u001b[39m,\n\u001b[1;32m      3\u001b[0m   minDist\u001b[38;5;241m=\u001b[39mimg\u001b[38;5;241m.\u001b[39mshape[\u001b[38;5;241m0\u001b[39m] \u001b[38;5;241m/\u001b[39m (\u001b[38;5;241m2\u001b[39m \u001b[38;5;241m*\u001b[39m (R \u001b[38;5;241m+\u001b[39m E)), param1\u001b[38;5;241m=\u001b[39m\u001b[38;5;241m100\u001b[39m, param2\u001b[38;5;241m=\u001b[39m\u001b[38;5;241m10\u001b[39m,\n\u001b[1;32m      4\u001b[0m   minRadius\u001b[38;5;241m=\u001b[39mR \u001b[38;5;241m-\u001b[39m E, maxRadius\u001b[38;5;241m=\u001b[39mR \u001b[38;5;241m+\u001b[39m E\n\u001b[1;32m      5\u001b[0m )\n",
      "\u001b[0;31mNameError\u001b[0m: name 'edges' is not defined"
     ]
    }
   ],
   "source": [
    "detected = hough(\n",
    "  edges, method=C.HOUGH_GRADIENT, dp=1,\n",
    "  minDist=img.shape[0] / (2 * (R + E)), param1=100, param2=10,\n",
    "  minRadius=R - E, maxRadius=R + E\n",
    ")"
   ]
  }
 ],
 "metadata": {
  "kernelspec": {
   "display_name": "qml",
   "language": "python",
   "name": "python3"
  },
  "language_info": {
   "codemirror_mode": {
    "name": "ipython",
    "version": 3
   },
   "file_extension": ".py",
   "mimetype": "text/x-python",
   "name": "python",
   "nbconvert_exporter": "python",
   "pygments_lexer": "ipython3",
   "version": "3.11.9"
  }
 },
 "nbformat": 4,
 "nbformat_minor": 2
}
