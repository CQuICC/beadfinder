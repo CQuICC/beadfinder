{
 "cells": [
  {
   "cell_type": "code",
   "execution_count": 1,
   "metadata": {},
   "outputs": [],
   "source": [
    "from src.tools import to_ranges, count_im, xy\n",
    "from matplotlib import pyplot as plt\n",
    "import numpy as np\n",
    "import cv2 as C\n",
    "\n",
    "BEAD_FREQ = 54\n",
    "B_POS = (148, 710)\n",
    "B_SIZ = 25\n",
    "\n",
    "BEAD_SIZE = 7 #px\n",
    "INTRA_BEAD_DIST = 3 #in terms of R\n",
    "\n",
    "hough = lambda img, **kwargs: np.uint16(np.around(C.HoughCircles(img, **kwargs)))"
   ]
  },
  {
   "cell_type": "code",
   "execution_count": 2,
   "metadata": {},
   "outputs": [
    {
     "name": "stdout",
     "output_type": "stream",
     "text": [
      "Found 98 images\n"
     ]
    }
   ],
   "source": [
    "INTRA_BEAD_DIST = (INTRA_BEAD_DIST + 2)*BEAD_SIZE\n",
    "\n",
    "B_POS = (B_POS[0], B_POS[1] - INTRA_BEAD_DIST)\n",
    "x0, y0, x1, y1 = xy(B_POS, B_SIZ)\n",
    "\n",
    "flen = count_im('out_dir')\n",
    "print(f\"Found {flen} images\")"
   ]
  },
  {
   "cell_type": "code",
   "execution_count": 3,
   "metadata": {},
   "outputs": [
    {
     "name": "stdout",
     "output_type": "stream",
     "text": [
      "[range(23, 27), range(74, 81)]\n"
     ]
    }
   ],
   "source": [
    "lums = []\n",
    "cache = {}\n",
    "\n",
    "for i in range(1, flen + 1):\n",
    "  name = f'{i:03d}'\n",
    "  img = C.imread(f'./out_dir/{name}.png', C.IMREAD_GRAYSCALE)\n",
    "\n",
    "  # mean lum s.t. lum = sum_white (>200)\n",
    "  lum = np.sum(img > 200)\n",
    "  lums.append(lum)\n",
    "  cache[name] = lum\n",
    "mean, std = np.mean(lums), np.std(lums)\n",
    "\n",
    "# delete items in cache that are not in lums\n",
    "for k in list(cache.keys()):\n",
    "  if cache[k] < mean + std:\n",
    "    del cache[k]\n",
    "\n",
    "ranges = to_ranges(list(map(int, cache.keys())))\n",
    "print(ranges)"
   ]
  },
  {
   "cell_type": "code",
   "execution_count": 4,
   "metadata": {},
   "outputs": [],
   "source": [
    "# for each range, find the argmax\n",
    "maxes = {}\n",
    "for r in ranges:\n",
    "  argmax = max(r, key=lambda k: cache[f\"{k:03d}\"])\n",
    "  maxes[argmax] = cache[f\"{argmax:03d}\"]\n",
    "\n",
    "# max in maxes contains the bead\n",
    "bead = max(maxes, key=lambda k: maxes[k])\n",
    "img_base = C.imread(f'./in_dir/{bead:03d}.png', C.IMREAD_GRAYSCALE)\n",
    "img_bead = C.imread(f'./in_dir/{bead - BEAD_FREQ:03d}.png', C.IMREAD_GRAYSCALE)\n",
    "\n",
    "img_base, img_bead = img_base[x0:x1, y0:y1], img_bead[x0:x1, y0:y1]"
   ]
  },
  {
   "cell_type": "code",
   "execution_count": 5,
   "metadata": {},
   "outputs": [],
   "source": [
    "def Circ(img):\n",
    "  detected = hough(\n",
    "    img_base, method=C.HOUGH_GRADIENT, dp=1,\n",
    "    minDist=img.shape[0] / 8, param1=100, param2=10,\n",
    "    minRadius=1, maxRadius=10\n",
    "  )[0][0]\n",
    "\n",
    "  x, y, r = detected\n",
    "\n",
    "  img2 = img.copy()\n",
    "  img2 = 255 - img2 * C.circle(np.zeros_like(img2), (x, y), r, 255, -1)\n",
    "  img2 = img2[x-r:x+r, y-r:y+r]\n",
    "\n",
    "  return img2"
   ]
  },
  {
   "cell_type": "code",
   "execution_count": 6,
   "metadata": {},
   "outputs": [
    {
     "data": {
      "image/png": "[encoded data removed]",
      "text/plain": [
       "<Figure size 640x480 with 2 Axes>"
      ]
     },
     "metadata": {},
     "output_type": "display_data"
    },
    {
     "data": {
      "image/png": "[encoded data removed]",
      "text/plain": [
       "<Figure size 640x480 with 1 Axes>"
      ]
     },
     "metadata": {},
     "output_type": "display_data"
    }
   ],
   "source": [
    "img_base2, img_bead2 = Circ(img_base), Circ(img_bead)\n",
    "\n",
    "fig, axs = plt.subplots(1, 2)\n",
    "axs[0].imshow(img_base2, cmap='gray')\n",
    "axs[1].imshow(img_bead2, cmap='gray')\n",
    "plt.show()\n",
    "\n",
    "# plot diff\n",
    "diff = img_base2 - img_bead2\n",
    "diff = np.where(diff < 200, diff, 0)\n",
    "# diff = C.GaussianBlur(diff, (3, 3), 0)\n",
    "\n",
    "# find the brightest 3x3 square\n",
    "max_diff = 0\n",
    "max_diff_pos = (0, 0)\n",
    "for i in range(diff.shape[0] - 3):\n",
    "  for j in range(diff.shape[1] - 3):\n",
    "    if np.sum(diff[i:i+3, j:j+3]) > max_diff:\n",
    "      max_diff = np.sum(diff[i:i+3, j:j+3])\n",
    "      max_diff_pos = (i, j)\n",
    "\n",
    "cx, cy = round(diff.shape[0] / 2), round(diff.shape[1] / 2)\n",
    "plt.imshow(diff, cmap='gray')\n",
    "slope = (max_diff_pos[0] - cx) / (max_diff_pos[1] - cy)\n",
    "plt.plot([cy, max_diff_pos[1]], [max_diff_pos[0], cx], 'r')\n",
    "plt.title(f\"Slope: {slope}\")\n",
    "\n",
    "plt.grid()\n",
    "plt.show()"
   ]
  }
 ],
 "metadata": {
  "kernelspec": {
   "display_name": "qml",
   "language": "python",
   "name": "python3"
  },
  "language_info": {
   "codemirror_mode": {
    "name": "ipython",
    "version": 3
   },
   "file_extension": ".py",
   "mimetype": "text/x-python",
   "name": "python",
   "nbconvert_exporter": "python",
   "pygments_lexer": "ipython3",
   "version": "3.11.9"
  }
 },
 "nbformat": 4,
 "nbformat_minor": 2
}
