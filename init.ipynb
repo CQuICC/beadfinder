{
 "cells": [
  {
   "cell_type": "code",
   "execution_count": 1,
   "metadata": {},
   "outputs": [],
   "source": [
    "from src.tools import xy, getFrame, hough\n",
    "from matplotlib import pyplot as plt\n",
    "from scipy.stats import mode\n",
    "from math import ceil\n",
    "import numpy as np\n",
    "import cv2 as C\n",
    "\n",
    "EDGE_TOL = 400\n",
    "RADIUS_RANGE = (1, 20)\n",
    "SCAN_STEP = 8\n",
    "REGEN_TOL = 0.1\n",
    "VIDEO_FILE = './data/A.mp4'\n",
    "\n",
    "RED = (255, 0, 0)\n",
    "\n",
    "B_POS = (141, 500)\n",
    "B_SIZ = 25"
   ]
  },
  {
   "cell_type": "code",
   "execution_count": null,
   "metadata": {},
   "outputs": [],
   "source": [
    "img = getFrame(VIDEO_FILE, 0)\n",
    "\n",
    "img2 = img.copy()\n",
    "x0, y0, x1, y1 = xy(B_POS, B_SIZ)\n",
    "C.rectangle(img2, (y0, x0), (y1, x1), RED, 2)\n",
    "\n",
    "# plt.imshow(img, cmap='gray')\n",
    "plt.imshow(img2)\n",
    "plt.show()"
   ]
  },
  {
   "cell_type": "code",
   "execution_count": null,
   "metadata": {},
   "outputs": [],
   "source": [
    "OFFSET = 2\n",
    "x0, y0, x1, y1 = xy(B_POS, B_SIZ)\n",
    "frame = getFrame(VIDEO_FILE, OFFSET)[x0:x1, y0:y1]\n",
    "\n",
    "circles =  hough(\n",
    "  C.Canny(frame, EDGE_TOL, EDGE_TOL),\n",
    "  minDist=8, param1 = 100, param2 = 15,\n",
    "  minRadius = 1, maxRadius = 20\n",
    ")[0][0]\n",
    "cx, cy, R = circles[0], circles[1], ceil(circles[2]) + 1\n",
    "\n",
    "frame = frame[cy-R:cy+R, cx-R:cx+R]\n",
    "\n",
    "plt.imshow(frame, cmap='gray')\n",
    "plt.axis('off')\n",
    "plt.savefig('ref.png', bbox_inches='tight')\n",
    "plt.show()"
   ]
  },
  {
   "cell_type": "code",
   "execution_count": null,
   "metadata": {},
   "outputs": [],
   "source": [
    "res = C.matchTemplate(img, frame, C.TM_CCOEFF_NORMED)\n",
    "# for all matches make a rectangle\n",
    "threshold = 0.68\n",
    "loc = np.where(res >= threshold)\n",
    "\n",
    "cxy = []\n",
    "for pt in zip(*loc[::-1]):\n",
    "  x, dx = pt[0], frame.shape[1]\n",
    "  y, dy = pt[1], frame.shape[0]\n",
    "  y = round(y/R)*R\n",
    "\n",
    "  cxy.append((round(x+dx/2), round(y+dy/2)))\n",
    "  C.rectangle(img, pt, (x+dx, y+dy), RED, 1)\n",
    "cxy = np.array(cxy)\n",
    "\n",
    "Y = mode(cxy[:, 1]).mode\n",
    "cxy = cxy[cxy[:, 1] == Y]\n",
    "diffs = np.diff(cxy[:, 0], 1)\n",
    "mean = np.mean(diffs)\n",
    "\n",
    "\n",
    "plt.imshow(img)\n",
    "plt.show()"
   ]
  },
  {
   "cell_type": "code",
   "execution_count": null,
   "metadata": {},
   "outputs": [],
   "source": [
    "print(f\"With mean diff of {mean:.2f}R @ R={R}\")"
   ]
  },
  {
   "cell_type": "code",
   "execution_count": 6,
   "metadata": {},
   "outputs": [],
   "source": [
    "data_dict = {\n",
    "  'R': str(R),\n",
    "  'Y': str(Y),\n",
    "  'D': str(mean.round(2))\n",
    "}\n",
    "\n",
    "with open('./data.txt', 'w') as f:\n",
    "  from json import dumps\n",
    "  f.write(str(dumps(data_dict)))"
   ]
  },
  {
   "cell_type": "code",
   "execution_count": 7,
   "metadata": {},
   "outputs": [],
   "source": [
    "!rm -rf ./in_dir/* ./out_dir/*"
   ]
  },
  {
   "cell_type": "code",
   "execution_count": null,
   "metadata": {},
   "outputs": [],
   "source": [
    "!ffmpeg -hide_banner -loglevel error -i \"{VIDEO_FILE}\" './in_dir/%03d.png'\n",
    "!python3 src/extract.py in_dir out_dir {max_Y}\n",
    "!rm -r ./out_dir/0.png ./out_dir/000.png"
   ]
  },
  {
   "cell_type": "code",
   "execution_count": null,
   "metadata": {},
   "outputs": [],
   "source": []
  }
 ],
 "metadata": {
  "kernelspec": {
   "display_name": "qml",
   "language": "python",
   "name": "python3"
  },
  "language_info": {
   "codemirror_mode": {
    "name": "ipython",
    "version": 3
   },
   "file_extension": ".py",
   "mimetype": "text/x-python",
   "name": "python",
   "nbconvert_exporter": "python",
   "pygments_lexer": "ipython3",
   "version": "3.11.9"
  }
 },
 "nbformat": 4,
 "nbformat_minor": 2
}
