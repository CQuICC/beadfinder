{
 "cells": [
  {
   "cell_type": "code",
   "execution_count": 1,
   "metadata": {},
   "outputs": [],
   "source": [
    "from matplotlib import pyplot as plt\n",
    "from math import floor, ceil\n",
    "import numpy as np\n",
    "import cv2 as C\n",
    "\n",
    "CANNY_THRESH = 400\n",
    "RADIUS_RANGE = (1, 20)\n",
    "SCAN_STEP = 8\n",
    "REGEN_TOL = 0.1\n",
    "VIDEO_FILE = './data/D.mp4'\n",
    "\n",
    "# just wrapper to clean up data after hough\n",
    "hough = lambda img, **kwargs: np.uint16(np.around(C.HoughCircles(img, method=C.HOUGH_GRADIENT, dp=1, **kwargs)))"
   ]
  },
  {
   "cell_type": "code",
   "execution_count": null,
   "metadata": {},
   "outputs": [],
   "source": [
    "vidcap = C.VideoCapture(VIDEO_FILE)\n",
    "success, img = vidcap.read()\n",
    "count = 0\n",
    "if not success:\n",
    "  print(\"Failed to read video\")\n",
    "  exit(1)\n",
    "\n",
    "plt.imshow(img, cmap='gray')\n",
    "plt.show()"
   ]
  },
  {
   "cell_type": "code",
   "execution_count": null,
   "metadata": {},
   "outputs": [],
   "source": [
    "# img = C.imread(f'./test/001.png', C.IMREAD_GRAYSCALE)\n",
    "img_orig = img.copy()\n",
    "edges = C.Canny(img, CANNY_THRESH, CANNY_THRESH)\n",
    "\n",
    "try:\n",
    "  detected =  hough(edges,\n",
    "    minDist=8, param1 = 100, param2 = 15,\n",
    "    minRadius = RADIUS_RANGE[0], maxRadius = RADIUS_RANGE[1]\n",
    "  )\n",
    "except Exception as e:\n",
    "  edges = C.Canny(img, CANNY_THRESH/2, CANNY_THRESH/2)\n",
    "  detected =  hough(edges,\n",
    "    minDist=8, param1 = 100, param2 = 15,\n",
    "    minRadius = RADIUS_RANGE[0], maxRadius = RADIUS_RANGE[1]\n",
    "  )\n",
    "\n",
    "# Find which radius wins, and allow for 10% error\n",
    "unique, counts = np.unique(detected[0, :, 2], return_counts=True)\n",
    "counts = dict(zip(unique, counts))\n",
    "R = max(counts, key=counts.get)\n",
    "E = round(REGEN_TOL * R)\n",
    "\n",
    "dfilt = detected[0, np.where((detected[0, :, 2] >= R-E) & (detected[0, :, 2] <= R+E))]\n",
    "R = np.mean(dfilt[0, :, 2])\n",
    "\n",
    "rpe, rme = ceil(R+E), floor(R-E)\n",
    "print(f\"Using R={R:.2f} (seen {max(counts)} times) with ϵ=±{E} => R in ({rme:.2f}, {rpe:.2f})\")"
   ]
  },
  {
   "cell_type": "code",
   "execution_count": null,
   "metadata": {},
   "outputs": [],
   "source": [
    "# 2nd round of clean Hough\n",
    "detected = hough(edges,\n",
    "  minDist=img.shape[0] / (2 * (R + E)), param1=100, param2=10,\n",
    "  minRadius=rme, maxRadius=rpe\n",
    ")\n",
    "\n",
    "# Binning 'y's into boxes of size R\n",
    "detected[0, :, 1] = np.round(detected[0, :, 1] / R) * R\n",
    "\n",
    "# count 'y's\n",
    "unique, counts = np.unique(detected[0, :, 2], return_counts=True)\n",
    "counts = dict(zip(unique, counts))\n",
    "\n",
    "# choose only the mode 'y' and 'R'\n",
    "max_R = max(counts, key=counts.get)\n",
    "max_Y = max(detected[0, :, 1])\n",
    "detected = detected[:, (detected[0, :, 2] == max_R) & (detected[0, :, 1] == max_Y), :]\n",
    "\n",
    "# sort 'x's\n",
    "detected = detected[:, detected[0, :, 0].argsort(), :]\n",
    "diffs = np.round(np.diff(detected[0, :, 0]) / max_R, 1) - 2\n",
    "\n",
    "# finding mean diff by counting the most common diff\n",
    "unique, counts = np.unique(diffs, return_counts=True)\n",
    "counts = dict(zip(unique, counts))\n",
    "max_diff = max(counts, key=counts.get)\n",
    "\n",
    "print(f\"Mean radius: {max_R}px, Mean distance: {max_diff:.1f}R (y-axis={max_Y})\")\n",
    "\n",
    "# Draw\n",
    "for pt in detected[0, :]:\n",
    "  C.circle(img, (pt[0], pt[1]), pt[2], (255, 0, 0), 2)\n",
    "plt.imshow(img, cmap='grey')\n",
    "plt.axis('off')\n",
    "plt.show()"
   ]
  },
  {
   "cell_type": "code",
   "execution_count": 5,
   "metadata": {},
   "outputs": [],
   "source": [
    "data_dict = {\n",
    "  'R': str(max_R),\n",
    "  'Y': str(max_Y),\n",
    "  'D': str(max_diff)\n",
    "}\n",
    "\n",
    "with open('./data.txt', 'w') as f:\n",
    "  from json import dumps\n",
    "  data = dumps(data_dict)\n",
    "  f.write(str(data))"
   ]
  },
  {
   "cell_type": "code",
   "execution_count": 6,
   "metadata": {},
   "outputs": [],
   "source": [
    "!rm -rf ./in_dir/* ./out_dir/*"
   ]
  },
  {
   "cell_type": "code",
   "execution_count": null,
   "metadata": {},
   "outputs": [],
   "source": [
    "!ffmpeg -hide_banner -loglevel error -i \"{VIDEO_FILE}\" './in_dir/%03d.png'\n",
    "!python3 src/extract.py in_dir out_dir {max_Y}\n",
    "!rm -r ./out_dir/0.png ./out_dir/000.png"
   ]
  }
 ],
 "metadata": {
  "kernelspec": {
   "display_name": "qml",
   "language": "python",
   "name": "python3"
  },
  "language_info": {
   "codemirror_mode": {
    "name": "ipython",
    "version": 3
   },
   "file_extension": ".py",
   "mimetype": "text/x-python",
   "name": "python",
   "nbconvert_exporter": "python",
   "pygments_lexer": "ipython3",
   "version": "3.11.9"
  }
 },
 "nbformat": 4,
 "nbformat_minor": 2
}
