{
 "cells": [
  {
   "cell_type": "code",
   "execution_count": null,
   "metadata": {},
   "outputs": [],
   "source": [
    "from circle_fit import least_squares_circle as lsc\n",
    "from src.tools import getFrame, C, np\n",
    "from matplotlib import pyplot as plt\n",
    "from scipy.stats import mode\n",
    "from os import listdir as L\n",
    "\n",
    "index = 12\n",
    "\n",
    "EDGE_TOL = 400\n",
    "RADIUS_RANGE = (1, 20)\n",
    "SCAN_STEP = 8\n",
    "REGEN_TOL = 0.1\n",
    "CANNY_STRENGTH = 2.9\n",
    "VIDEO_FILE = './data/Kani_2/' + L('./data/Kani_2')[index]\n",
    "print(VIDEO_FILE)\n",
    "\n",
    "RED = (255, 0, 0)"
   ]
  },
  {
   "cell_type": "code",
   "execution_count": null,
   "metadata": {},
   "outputs": [],
   "source": [
    "img = getFrame(VIDEO_FILE, 1)\n",
    "\n",
    "img2 = img.copy()\n",
    "width, height = img.shape[:2]\n",
    "\n",
    "# first one is up and down | second one is left and right\n",
    "cx, cy = round(width * 0.432), round(height * 0.83)\n",
    "# cx, cy = round(width * 0.45), round(height * 0.84)\n",
    "\n",
    "pct = round(width * 0.035)\n",
    "x0, y0, x1, y1 = cx - pct, cy - pct, cx + pct, cy + pct\n",
    "\n",
    "C.rectangle(img2, (y0, x0), (y1, x1), RED, 2)\n",
    "plt.imshow(img2)\n",
    "plt.show()"
   ]
  },
  {
   "cell_type": "code",
   "execution_count": null,
   "metadata": {},
   "outputs": [],
   "source": [
    "ref = img[x0:x1, y0:y1]\n",
    "\n",
    "cs = CANNY_STRENGTH*100\n",
    "edges = C.Canny(ref, cs, cs)\n",
    "\n",
    "cx, cy, R, _ = lsc(np.argwhere(edges > 0))\n",
    "cx, cy, R = int(cx), int(cy), int(R)\n",
    "\n",
    "frame = ref[round(cx - R):round(cx + R), round(cy - R):round(cy + R)]\n",
    "plt.imshow(frame, cmap='gray')\n",
    "plt.savefig('frame.png', bbox_inches='tight')\n",
    "plt.show()"
   ]
  },
  {
   "cell_type": "code",
   "execution_count": null,
   "metadata": {},
   "outputs": [],
   "source": [
    "res = C.matchTemplate(img, frame, C.TM_CCOEFF_NORMED)\n",
    "loc = np.where(res >= 0.68) #1std\n",
    "\n",
    "cxy = []\n",
    "for pt in zip(*loc[::-1]):\n",
    "  x, dx = pt[0], frame.shape[1]\n",
    "  y, dy = pt[1], frame.shape[0]\n",
    "  y = round(y/R)*R\n",
    "\n",
    "  cxy.append((round(x+dx/2), round(y+dy/2)))\n",
    "  C.rectangle(img, pt, (x+dx, y+dy), RED, 1)\n",
    "cxy = np.array(cxy)\n",
    "\n",
    "Y = mode(cxy[:, 1]).mode\n",
    "cxy = cxy[cxy[:, 1] == Y]\n",
    "diffs = np.diff(cxy[:, 0], 1)\n",
    "mean = np.mean(diffs)\n",
    "\n",
    "plt.imshow(img)\n",
    "plt.show()"
   ]
  },
  {
   "cell_type": "code",
   "execution_count": null,
   "metadata": {},
   "outputs": [],
   "source": [
    "print(f\"With mean diff of {mean:.2f}R @ R={R}\")"
   ]
  },
  {
   "cell_type": "code",
   "execution_count": 67,
   "metadata": {},
   "outputs": [],
   "source": [
    "data_dict = {\n",
    "  'index': str(index),\n",
    "  'R': str(R),\n",
    "  'Y': str(Y),\n",
    "  'D': str(mean.round(2)),\n",
    "  'sz': str(frame.shape),\n",
    "  'file': L('./data/Kani_2')[index],\n",
    "  'bsz': str((y0, x0, y1, x1)),\n",
    "}\n",
    "\n",
    "with open('./data.txt', 'w') as f:\n",
    "  from json import dumps\n",
    "  f.write(str(dumps(data_dict)))"
   ]
  },
  {
   "cell_type": "code",
   "execution_count": 68,
   "metadata": {},
   "outputs": [],
   "source": [
    "!rm -rf ./in_dir/* ./out_dir/*"
   ]
  },
  {
   "cell_type": "code",
   "execution_count": null,
   "metadata": {},
   "outputs": [],
   "source": [
    "!ffmpeg -hide_banner -loglevel error -i \"{VIDEO_FILE}\" './in_dir/%03d.png'\n",
    "!python3 src/extract.py in_dir out_dir {max_Y}\n",
    "!rm -r ./out_dir/0.png ./out_dir/000.png\n",
    "!ls ./out_dir | wc -l"
   ]
  },
  {
   "cell_type": "code",
   "execution_count": null,
   "metadata": {},
   "outputs": [],
   "source": []
  },
  {
   "cell_type": "code",
   "execution_count": null,
   "metadata": {},
   "outputs": [],
   "source": []
  },
  {
   "cell_type": "code",
   "execution_count": null,
   "metadata": {},
   "outputs": [],
   "source": []
  }
 ],
 "metadata": {
  "kernelspec": {
   "display_name": "qml",
   "language": "python",
   "name": "python3"
  },
  "language_info": {
   "codemirror_mode": {
    "name": "ipython",
    "version": 3
   },
   "file_extension": ".py",
   "mimetype": "text/x-python",
   "name": "python",
   "nbconvert_exporter": "python",
   "pygments_lexer": "ipython3",
   "version": "3.11.9"
  }
 },
 "nbformat": 4,
 "nbformat_minor": 2
}
