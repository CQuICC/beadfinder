{
 "cells": [
  {
   "cell_type": "code",
   "execution_count": 1,
   "metadata": {},
   "outputs": [],
   "source": [
    "from src.tools import to_ranges, count_im, xy, Circ\n",
    "from matplotlib import pyplot as plt\n",
    "import numpy as np\n",
    "import cv2 as C\n",
    "import math as M\n",
    "\n",
    "BEAD_FREQ = 54\n",
    "B_POS = (148, 710)\n",
    "B_SIZ = 25\n",
    "\n",
    "BEAD_STRIDE = 4\n",
    "BEAD_SIZE = 7 #px\n",
    "INTRA_BEAD_DIST = 3.1 #in terms of R\n",
    "\n",
    "hough = lambda img, **kwargs: np.uint16(np.around(C.HoughCircles(img, **kwargs)))"
   ]
  },
  {
   "cell_type": "code",
   "execution_count": 2,
   "metadata": {},
   "outputs": [
    {
     "name": "stdout",
     "output_type": "stream",
     "text": [
      "[range(23, 27), range(74, 81)]\n"
     ]
    }
   ],
   "source": [
    "INTRA_BEAD_DIST = (INTRA_BEAD_DIST + 2)*BEAD_SIZE\n",
    "\n",
    "B_POS = (B_POS[0], round(B_POS[1] - INTRA_BEAD_DIST))\n",
    "x0, y0, x1, y1 = xy(B_POS, B_SIZ)\n",
    "\n",
    "lums = []\n",
    "cache = {}\n",
    "\n",
    "for i in range(1, count_im('out_dir') + 1):\n",
    "  name = f'{i:03d}'\n",
    "  img = C.imread(f'./out_dir/{name}.png', C.IMREAD_GRAYSCALE)\n",
    "\n",
    "  # mean lum s.t. lum = sum_white (>200)\n",
    "  lum = np.sum(img > 200)\n",
    "  lums.append(lum)\n",
    "  cache[name] = lum\n",
    "mean, std = np.mean(lums), np.std(lums)\n",
    "\n",
    "# delete items in cache that are not in lums\n",
    "for k in list(cache.keys()):\n",
    "  if cache[k] < mean + std:\n",
    "    del cache[k]\n",
    "\n",
    "ranges = to_ranges(list(map(int, cache.keys())))\n",
    "print(ranges)"
   ]
  },
  {
   "cell_type": "code",
   "execution_count": 3,
   "metadata": {},
   "outputs": [],
   "source": [
    "# for each range, find the argmax\n",
    "maxes = {}\n",
    "for r in ranges:\n",
    "  argmax = max(r, key=lambda k: cache[f\"{k:03d}\"])\n",
    "  maxes[argmax] = cache[f\"{argmax:03d}\"]\n",
    "\n",
    "# max in maxes contains the bead\n",
    "bead = max(maxes, key=lambda k: maxes[k])\n",
    "img_base = C.imread(f'./in_dir/{bead:03d}.png', C.IMREAD_GRAYSCALE)\n",
    "img_bead = C.imread(f'./in_dir/{bead - BEAD_FREQ:03d}.png', C.IMREAD_GRAYSCALE)\n",
    "\n",
    "img_base, img_bead = img_base[x0:x1, y0:y1], img_bead[x0:x1, y0:y1]"
   ]
  },
  {
   "cell_type": "code",
   "execution_count": 4,
   "metadata": {},
   "outputs": [
    {
     "data": {
      "image/png": "[encoded data removed]",
      "text/plain": [
       "<Figure size 640x480 with 2 Axes>"
      ]
     },
     "metadata": {},
     "output_type": "display_data"
    },
    {
     "data": {
      "image/png": "[encoded data removed]",
      "text/plain": [
       "<Figure size 640x480 with 1 Axes>"
      ]
     },
     "metadata": {},
     "output_type": "display_data"
    },
    {
     "name": "stdout",
     "output_type": "stream",
     "text": [
      "(cx, cy) = (9, 9), bead(x, y) = (5, 10)\n"
     ]
    }
   ],
   "source": [
    "img_base2, img_bead2 = Circ(img_base), Circ(img_bead)\n",
    "\n",
    "fig, axs = plt.subplots(1, 2)\n",
    "axs[0].imshow(img_base2, cmap='gray')\n",
    "axs[1].imshow(img_bead2, cmap='gray')\n",
    "plt.show()\n",
    "\n",
    "# add blur to both images\n",
    "img_base2 = C.GaussianBlur(img_base2, (3, 3), 1)\n",
    "img_bead2 = C.GaussianBlur(img_bead2, (3, 3), 1)\n",
    "\n",
    "# plot diff\n",
    "diff = img_base2 - img_bead2\n",
    "diff = np.where(diff < 0.68*255, diff, 0)\n",
    "\n",
    "s = BEAD_STRIDE\n",
    "\n",
    "max_diff = 0\n",
    "max_diff_pos = (0, 0)\n",
    "for i in range(diff.shape[0] - s):\n",
    "  for j in range(diff.shape[1] - s):\n",
    "    if np.median(diff[i:i+s, j:j+s]) > max_diff:\n",
    "      max_diff = np.median(diff[i:i+s, j:j+s])\n",
    "\n",
    "      max_x = round(np.argmax(diff[i:i+s, j:j+s]) / s)\n",
    "      max_y = np.argmax(diff[i:i+s, j:j+s]) % s\n",
    "      max_diff_pos = (i + max_x, j + max_y)\n",
    "# we can just use openCV's findContour\n",
    "\n",
    "cx, cy = round(diff.shape[0] / 2), round(diff.shape[1] / 2)\n",
    "plt.imshow(diff, cmap='gray')\n",
    "slope = (max_diff_pos[0] - cx) / (max_diff_pos[1] - cy + 1e-6)\n",
    "slope = round((180-( M.atan(slope) * 180 / M.pi)), 2)\n",
    "plt.plot([cy, max_diff_pos[1]], [cx, max_diff_pos[0]], 'r')\n",
    "\n",
    "plt.plot(cx, cy, 'ro')\n",
    "plt.plot(max_diff_pos[1], max_diff_pos[0], 'bo')\n",
    "plt.title(f\"Slope: {slope}deg\")\n",
    "\n",
    "plt.show()\n",
    "\n",
    "print(f\"(cx, cy) = ({cx}, {cy}), bead(x, y) = {max_diff_pos}\")"
   ]
  }
 ],
 "metadata": {
  "kernelspec": {
   "display_name": "qml",
   "language": "python",
   "name": "python3"
  },
  "language_info": {
   "codemirror_mode": {
    "name": "ipython",
    "version": 3
   },
   "file_extension": ".py",
   "mimetype": "text/x-python",
   "name": "python",
   "nbconvert_exporter": "python",
   "pygments_lexer": "ipython3",
   "version": "3.11.9"
  }
 },
 "nbformat": 4,
 "nbformat_minor": 2
}
