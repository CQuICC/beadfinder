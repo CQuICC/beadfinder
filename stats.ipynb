{
 "cells": [
  {
   "cell_type": "code",
   "execution_count": null,
   "metadata": {},
   "outputs": [],
   "source": [
    "from src.img import getBrightest, np, plotAB, getOffset, trim\n",
    "from src.tools import group, xy, read, hough, parseData, templ\n",
    "from matplotlib import pyplot as plt\n",
    "import math as M\n",
    "import cv2 as C\n",
    "\n",
    "# file, sz, Y_AXIS, BEAD_FREQ, CT, BBOX, BEAD_SIZE, IBD, index = parseData()\n",
    "file, sz, Y_AXIS, BEAD_FREQ, CT, BBOX, BEAD_SIZE, IBD, index = parseData()\n",
    "(y0, x0, y1, x1) = BBOX\n",
    "\n",
    "circle_mode = False\n",
    "B_POS = (Y_AXIS, y0)\n",
    "speed = BEAD_FREQ / IBD # how many px does the bead move per frame\n",
    "\n",
    "REF = C.resize(read('frame.png'), (sz[0], sz[1]), interpolation=C.INTER_AREA)\n",
    "file"
   ]
  },
  {
   "cell_type": "code",
   "execution_count": null,
   "metadata": {},
   "outputs": [],
   "source": [
    "lums, cache = [], {}\n",
    "\n",
    "for i in range(1, CT - 1):\n",
    "  name = f'{i:03d}'\n",
    "  img = read(f'./out_dir/{name}.png')\n",
    "  cache[name] = np.sum(img > 200)\n",
    "  lums.append(cache[name])\n",
    "mean, std = np.mean(lums), np.std(lums)\n",
    "\n",
    "for k in list(cache.keys()):\n",
    "  if cache[k] < mean + std:\n",
    "    del cache[k]\n",
    "\n",
    "ranges = group(list(map(int, cache.keys())))\n",
    "maxes = {}\n",
    "for r in ranges:\n",
    "  argmax = max(r, key=lambda k: cache.get(f\"{k:03d}\", 0))\n",
    "  maxes[argmax] = cache[f\"{argmax:03d}\"]\n",
    "print(ranges, maxes)\n",
    "\n",
    "img = read(f'./in_dir/{max(maxes, key=maxes.get):03d}.png')\n",
    "B_SIZ = round(img.shape[0] * 0.04)\n",
    "x0, y0, x1, y1 = xy((B_POS[0], round(B_POS[1] + B_SIZ)), B_SIZ)\n",
    "C.rectangle(img, (y1, x1), (y0, x0), 255, 2)\n",
    "\n",
    "plt.imshow(img, cmap='gray')\n",
    "plt.show()"
   ]
  },
  {
   "cell_type": "code",
   "execution_count": null,
   "metadata": {},
   "outputs": [],
   "source": [
    "MOVE_REF, MOVE_MAIN = 0, 5\n",
    "PAN_X, PAN_Y = 1, 0\n",
    "\n",
    "REV = round(1 * BEAD_SIZE * speed)\n",
    "print(max(maxes, key=lambda k: maxes[k]), REV)\n",
    "bead = max([max(maxes, key=lambda k: maxes[k]) - REV, 1]) + MOVE_REF\n",
    "print(f'./data/Kani_2/{file}', f\"Using frame {bead}\")\n",
    "\n",
    "img_ref = read(f'./in_dir/{bead:03d}.png')\n",
    "x0, y0, x1, y1 = xy((B_POS[0], round(B_POS[1] + B_SIZ)), B_SIZ)\n",
    "img_bead = img_ref[x0+PAN_Y:x1+PAN_Y, y0+PAN_X:y1+PAN_X]\n",
    "\n",
    "try:\n",
    "  base = MOVE_MAIN + (bead - BEAD_FREQ if BEAD_FREQ < bead else bead + BEAD_FREQ)\n",
    "  img_ref = read(f'./in_dir/{base:03d}.png')\n",
    "  x0, y0, x1, y1 = xy((B_POS[0], round(B_POS[1] + B_SIZ)), B_SIZ)\n",
    "  img_base = img_ref[x0+PAN_Y:x1+PAN_Y, y0+PAN_X:y1+PAN_X]\n",
    "  plotAB(img_bead, img_base, f\"Ref Frame:{bead}\", f\"BEAD Frame:{base}\")\n",
    "  plt.show()\n",
    "except:\n",
    "  print(f\"Could not find frame {base}\\nFolder has {CT} frames\")\n",
    "  print(f\"BEAD_FREQ is {BEAD_FREQ} and current frame is {bead}\")"
   ]
  },
  {
   "cell_type": "code",
   "execution_count": null,
   "metadata": {},
   "outputs": [],
   "source": [
    "dy, dx = REF.shape\n",
    "rs = [dx / 2, dy / 2, img_bead.shape[0] / 2, img_bead.shape[1] / 2, img_base.shape[0] / 2, img_base.shape[1] / 2]\n",
    "rs = [round(r) for r in rs]\n",
    "r_ = min(rs)\n",
    "sy, sx = sz[:2]\n",
    "\n",
    "if circle_mode:\n",
    "  rme, rpe = r_ - 3, r_ + 3\n",
    "  x0, y0, r0 = hough(img_bead, minDist=1, param1=150, param2=10, minRadius=rme, maxRadius=rpe)[0][0]\n",
    "  img_bead2 = img_bead[y0-r0:y0+r0, x0-r0:x0+r0].copy()\n",
    "\n",
    "  x1, y1, r1 = hough(img_base, minDist=1, param1=150, param2=10, minRadius=rme, maxRadius=rpe)[0][0]\n",
    "  img_base2 = img_base[y1-r1:y1+r1, x1-r1:x1+r1].copy()\n",
    "\n",
    "else:\n",
    "  res_1 = templ(REF, img_bead)\n",
    "  res_2 = templ(REF, img_base)\n",
    "  R1 = (res_1[3][0] + 2, res_1[3][1], res_1[3][0] + sy, res_1[3][1] + sx)\n",
    "  R2 = (res_2[3][0] + 2, res_2[3][1], res_2[3][0] + sy, res_2[3][1] + sx)\n",
    "\n",
    "  img_bead2 = img_bead[R1[1]:R1[3], R1[0]:R1[2]]\n",
    "  img_base2 = img_base[R2[1]:R2[3], R2[0]:R2[2]]\n",
    "\n",
    "plotAB(img_bead2, img_base2, f\"Ref Fr:{bead} {img_bead2.shape}\", f\"BEAD Fr:{base} {img_base2.shape}\")\n",
    "plt.savefig(f'./frames/{file}.png', bbox_inches='tight')\n",
    "plt.show()"
   ]
  },
  {
   "cell_type": "code",
   "execution_count": null,
   "metadata": {},
   "outputs": [],
   "source": [
    "Ty = getOffset(np.mean(img_bead2, axis=1), np.mean(img_base2, axis=1))\n",
    "Tx = getOffset(np.mean(img_bead2, axis=0), np.mean(img_base2, axis=0))\n",
    "print(f\"Offset: {Ty}, {Tx}\")\n",
    "\n",
    "img_base2 = np.roll(np.roll(img_base2, Ty, axis=0), Tx, axis=1)\n",
    "img_bead2, img_base2 = trim(img_bead2, img_base2)\n",
    "img_bead2 = C.GaussianBlur(img_bead2, (5, 5), 0.1)\n",
    "img_base2 = C.GaussianBlur(img_base2, (5, 5), 0.1)\n",
    "\n",
    "plotAB(img_bead2, img_base2, f\"Ref Frame:{bead} ({img_bead2.shape})\", f\"BEAD Frame:{base} ({img_base2.shape})\")\n",
    "plt.show()"
   ]
  },
  {
   "cell_type": "code",
   "execution_count": null,
   "metadata": {},
   "outputs": [],
   "source": [
    "FLIP = False\n",
    "\n",
    "diff = img_base2 - (img_bead2 * 0.9)\n",
    "if FLIP: diff = 255 - diff\n",
    "\n",
    "mdp = getBrightest(3, diff, limited=True)\n",
    "bx, by = mdp\n",
    "\n",
    "cx, cy = round(img_base2.shape[0] / 2), round(img_base2.shape[1] / 2)\n",
    "plt.imshow(diff, cmap='gray')\n",
    "plt.plot([cy, mdp[1]], [cx, mdp[0]], 'r')\n",
    "plt.plot(cy, cx, 'ro')\n",
    "plt.plot(mdp[1], mdp[0], 'bo')\n",
    "plt.show()\n",
    "\n",
    "D = M.sqrt((cx - mdp[0])**2 + (cy - mdp[1])**2)\n",
    "theta = 180 - (M.atan2(cx - bx, by - cy) * 180 / M.pi)\n",
    "\n",
    "# I did all calc with the axes swapped\n",
    "print(f\"Index|{BEAD_SIZE:.0f}px | {IBD:.1f}R | {D:.1f}px | {theta:.1f}° |\")\n",
    "string = f\"\\n{index}, {file}, {IBD:.1f}, {BEAD_SIZE:.1f}, {D:.0f}, {theta:.1f}\"\n",
    "print(string)"
   ]
  },
  {
   "cell_type": "code",
   "execution_count": 144,
   "metadata": {},
   "outputs": [],
   "source": [
    "# filename, IDD, droplet radius, bead r, bead theta\n",
    "with open(\"./dump.csv\", 'a') as f:\n",
    "  f.write(string)"
   ]
  },
  {
   "cell_type": "code",
   "execution_count": null,
   "metadata": {},
   "outputs": [],
   "source": []
  },
  {
   "cell_type": "code",
   "execution_count": null,
   "metadata": {},
   "outputs": [],
   "source": []
  }
 ],
 "metadata": {
  "kernelspec": {
   "display_name": "qml",
   "language": "python",
   "name": "python3"
  },
  "language_info": {
   "codemirror_mode": {
    "name": "ipython",
    "version": 3
   },
   "file_extension": ".py",
   "mimetype": "text/x-python",
   "name": "python",
   "nbconvert_exporter": "python",
   "pygments_lexer": "ipython3",
   "version": "3.11.9"
  }
 },
 "nbformat": 4,
 "nbformat_minor": 2
}
